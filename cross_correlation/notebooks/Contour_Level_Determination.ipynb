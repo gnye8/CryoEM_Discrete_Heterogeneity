{
 "cells": [
  {
   "cell_type": "code",
   "execution_count": null,
   "id": "4281b753",
   "metadata": {},
   "outputs": [],
   "source": []
  },
  {
   "cell_type": "code",
   "execution_count": null,
   "id": "74673a73",
   "metadata": {},
   "outputs": [],
   "source": [
    "import mrcfile\n",
    "import os\n",
    "import numpy as np\n",
    "import pandas as pd\n",
    "\n",
    "def get_mrc_data_headers_and_vs(mrc_filename):\n",
    "    with mrcfile.open(mrc_filename) as mrc:\n",
    "        return mrc.data, mrc.henano ader, mrc.voxel_size\n",
    "\n",
    "def calculate_voxels(data, contour_level):\n",
    "    threshold = np.mean(data) + (np.std(data)*contour_level)\n",
    "    contoured_data = np.where(data >= threshold, data, 0)\n",
    "    return np.count_nonzero(contoured_data)\n",
    "\n",
    "def get_contour_level(og_map_filename, initial_volume_filename):\n",
    "    \n",
    "    og_data, og_header, og_voxel_size = get_mrc_data_headers_and_vs(og_map_filename)\n",
    "    iv_data, iv_header, iv_voxel_size = get_mrc_data_headers_and_vs(initial_volume_filename)\n",
    "\n",
    "    ## now let's check to make sure that grid size, voxel size, and cell size are all perfectly symmetrical \n",
    "\n",
    "    if (og_voxel_size.x != og_voxel_size.y) or (og_voxel_size.x != og_voxel_size.z) or (og_voxel_size.y \n",
    "                                                                                        != og_voxel_size.z):\n",
    "        print('original map voxel size is not symmetrical')\n",
    "\n",
    "    if (iv_voxel_size.x != iv_voxel_size.y) or (iv_voxel_size.x != iv_voxel_size.z) or (iv_voxel_size.y \n",
    "                                                                                        != iv_voxel_size.z):\n",
    "        print('initial volume voxel size is not symmetrical')\n",
    "\n",
    "    if (og_header.nx != og_header.ny) or (og_header.ny != og_header.nz) or (og_header.nx != og_header.nz):\n",
    "        print('original map grid size is not symmetrical')\n",
    "\n",
    "    if (iv_header.nx != iv_header.ny) or (iv_header.ny != iv_header.nz) or (iv_header.nx != iv_header.nz):\n",
    "        print('initial volume grid size is not symmetrical')\n",
    "\n",
    "    if (og_header.cella.x != og_header.cella.y) or (og_header.cella.y \n",
    "                                                    != og_header.cella.z) or (og_header.cella.x \n",
    "                                                                              != og_header.cella.z):\n",
    "        print('original map cell size is not symmetrical')\n",
    "\n",
    "    if (iv_header.cella.x != iv_header.cella.y) or (iv_header.cella.y \n",
    "                                                    != iv_header.cella.z) or (iv_header.cella.x \n",
    "                                                                              != iv_header.cella.z):\n",
    "        print('initial volume cell size is not symmetrical')\n",
    "\n",
    "    # now let's check that length of grid points per voxel is equal to 1\n",
    "\n",
    "    og_grid_pts_pvoxel = (og_header.nx/og_header.cella.x)*og_voxel_size.x\n",
    "    iv_grid_pts_pvoxel = (iv_header.nx/iv_header.cella.x)*iv_voxel_size.x\n",
    "\n",
    "    if round(iv_grid_pts_pvoxel, 3) != 1.0 or round(og_grid_pts_pvoxel, 3) != 1.0:\n",
    "        print('grid points per voxel is off')\n",
    "\n",
    "    # now let's calculate the number of voxels in the original map \n",
    "    og_voxels = calculate_voxels(og_data, contour_level=0)\n",
    "    print(og_voxels)\n",
    "\n",
    "    #now for our first while loop, which will have a coarse search of contour levels \n",
    "    iv_contour_level = 0\n",
    "    iv_voxels = 0\n",
    "    while iv_voxels != og_voxels:\n",
    "        iv_voxels = calculate_voxels(iv_data, iv_contour_level)\n",
    "        if iv_voxels < og_voxels:\n",
    "            break\n",
    "        iv_contour_level = iv_contour_level + 0.001\n",
    "\n",
    "    #now for the second while loop, which will have a finer search of contour levels \n",
    "    iv_contour_level = iv_contour_level - 0.001\n",
    "    while iv_voxels != og_voxels:\n",
    "        iv_voxels = calculate_voxels(iv_data, iv_contour_level)\n",
    "        if iv_voxels < og_voxels:\n",
    "            break\n",
    "        iv_contour_level = iv_contour_level + 0.000001\n",
    "        \n",
    "    og_volume = og_voxels * og_voxel_size.x * og_voxel_size.y * og_voxel_size.z\n",
    "    iv_voxels_wanted = og_volume / (iv_voxel_size.x*iv_voxel_size.y*iv_voxel_size.z)\n",
    "    #print(og_volume)\n",
    "    #print(iv_voxels_wanted)\n",
    "    #print(round(iv_voxels_wanted, 0))\n",
    "\n",
    "    iv_contour_level_volume = 0\n",
    "    while iv_voxels != int(round(iv_voxels_wanted, 0)):\n",
    "        #print(iv_contour_level_volume)\n",
    "        iv_voxels = calculate_voxels(iv_data, iv_contour_level_volume)\n",
    "        #print(iv_voxels)\n",
    "        if iv_voxels < int(round(iv_voxels_wanted, 0)):\n",
    "            break\n",
    "        iv_contour_level_volume += 0.01\n",
    "\n",
    "    iv_contour_level_volume -= 0.001\n",
    "    while iv_voxels != int(round(iv_voxels_wanted, 0)):\n",
    "        iv_voxels = calculate_voxels(iv_data, iv_contour_level_volume)\n",
    "        if iv_voxels < int(round(iv_voxels_wanted, 0)):\n",
    "            break\n",
    "        iv_contour_level_volume += 0.000001\n",
    "        \n",
    "    return iv_contour_level_volume"
   ]
  },
  {
   "cell_type": "code",
   "execution_count": 22,
   "id": "90c77df3",
   "metadata": {},
   "outputs": [
    {
     "name": "stdout",
     "output_type": "stream",
     "text": [
      "['D3_FMN_bad.mrc', 'D4_FMN_good.mrc', 'D2_SAMIV_good.mrc', 'D3_FMN_bad_axis_flipped.mrc', 'D4_FMN_good_axis_flipped.mrc', 'D2_SAMIV_good_axis_flipped.mrc', 'D10_SAMIV_bad_axis_flipped.mrc', 'D10_SAMIV_bad.mrc']\n",
      "49743\n",
      "47312\n",
      "49743\n",
      "47312\n",
      "49743\n",
      "47312\n",
      "49743\n",
      "47312\n",
      "49743\n",
      "47312\n",
      "49743\n",
      "47312\n",
      "49743\n",
      "47312\n",
      "49743\n",
      "47312\n"
     ]
    }
   ],
   "source": [
    "files = os.listdir('test_maps/')\n",
    "print(files)\n",
    "\n",
    "fmn_original_map = 'original_maps/2yif.mrc'\n",
    "samiv_original_map = 'original_maps/6ues.mrc'\n",
    "\n",
    "ct_levels_fmn = []\n",
    "ct_levels_samiv = []\n",
    "for file in files:\n",
    "    ct_levels_fmn.append(get_contour_level(fmn_original_map, 'test_maps/'+file))\n",
    "    ct_levels_samiv.append(get_contour_level(samiv_original_map, 'test_maps/'+file))"
   ]
  },
  {
   "cell_type": "code",
   "execution_count": 26,
   "id": "e700efd3",
   "metadata": {},
   "outputs": [],
   "source": [
    "contour_levels_df = pd.DataFrame(zip(files, ct_levels_fmn, ct_levels_samiv), \n",
    "                                 columns=['file', 'contour_level_with_fmn', 'contour_level_with_samiv'])\n",
    "contour_levels_df.to_csv('test_maps_contour_levels.csv')"
   ]
  },
  {
   "cell_type": "code",
   "execution_count": 30,
   "id": "c80f0c87",
   "metadata": {},
   "outputs": [
    {
     "name": "stdout",
     "output_type": "stream",
     "text": [
      "D3_FMN_bad.mrc\n",
      "3.2089999999999756\n",
      "D4_FMN_good.mrc\n",
      "6.018999999999916\n",
      "D2_SAMIV_good.mrc\n",
      "6.9689999999998955\n",
      "D3_FMN_bad_axis_flipped.mrc\n",
      "3.2089999999999756\n",
      "D4_FMN_good_axis_flipped.mrc\n",
      "6.018999999999916\n",
      "D2_SAMIV_good_axis_flipped.mrc\n",
      "6.9689999999998955\n",
      "D10_SAMIV_bad_axis_flipped.mrc\n",
      "3.8996770000000556\n",
      "D10_SAMIV_bad.mrc\n",
      "3.8996770000000556\n"
     ]
    }
   ],
   "source": [
    "for index,row in contour_levels_df.iterrows():\n",
    "    file = row['file']\n",
    "    fmn_ct_level = row['contour_level_with_fmn']\n"
   ]
  },
  {
   "cell_type": "code",
   "execution_count": null,
   "id": "87590521",
   "metadata": {},
   "outputs": [],
   "source": []
  },
  {
   "cell_type": "code",
   "execution_count": null,
   "id": "4894d647",
   "metadata": {},
   "outputs": [],
   "source": []
  },
  {
   "cell_type": "code",
   "execution_count": null,
   "id": "a6802a0a",
   "metadata": {},
   "outputs": [],
   "source": []
  },
  {
   "cell_type": "code",
   "execution_count": null,
   "id": "89aa441a",
   "metadata": {},
   "outputs": [],
   "source": []
  },
  {
   "cell_type": "code",
   "execution_count": null,
   "id": "302fffdd",
   "metadata": {},
   "outputs": [],
   "source": []
  },
  {
   "cell_type": "code",
   "execution_count": null,
   "id": "a051b7ba",
   "metadata": {},
   "outputs": [],
   "source": []
  },
  {
   "cell_type": "code",
   "execution_count": null,
   "id": "c19124fe",
   "metadata": {},
   "outputs": [],
   "source": [
    " "
   ]
  },
  {
   "cell_type": "code",
   "execution_count": null,
   "id": "0952fd9a",
   "metadata": {},
   "outputs": [],
   "source": []
  },
  {
   "cell_type": "code",
   "execution_count": null,
   "id": "c8a0d610",
   "metadata": {},
   "outputs": [],
   "source": []
  },
  {
   "cell_type": "code",
   "execution_count": null,
   "id": "cef6788a",
   "metadata": {},
   "outputs": [],
   "source": []
  },
  {
   "cell_type": "code",
   "execution_count": null,
   "id": "f16d881e",
   "metadata": {},
   "outputs": [],
   "source": []
  },
  {
   "cell_type": "code",
   "execution_count": null,
   "id": "0d9d43a7",
   "metadata": {},
   "outputs": [],
   "source": []
  },
  {
   "cell_type": "code",
   "execution_count": null,
   "id": "aec2a266",
   "metadata": {},
   "outputs": [],
   "source": []
  },
  {
   "cell_type": "code",
   "execution_count": null,
   "id": "703bf5a9",
   "metadata": {},
   "outputs": [],
   "source": []
  },
  {
   "cell_type": "code",
   "execution_count": null,
   "id": "11a46eaa",
   "metadata": {},
   "outputs": [],
   "source": []
  },
  {
   "cell_type": "code",
   "execution_count": null,
   "id": "22b07216",
   "metadata": {},
   "outputs": [],
   "source": []
  },
  {
   "cell_type": "code",
   "execution_count": null,
   "id": "b1728588",
   "metadata": {},
   "outputs": [],
   "source": []
  },
  {
   "cell_type": "code",
   "execution_count": null,
   "id": "3f5e178d",
   "metadata": {},
   "outputs": [],
   "source": []
  },
  {
   "cell_type": "code",
   "execution_count": null,
   "id": "b5a3de89",
   "metadata": {},
   "outputs": [],
   "source": []
  },
  {
   "cell_type": "code",
   "execution_count": null,
   "id": "8a6c8af1",
   "metadata": {},
   "outputs": [],
   "source": []
  },
  {
   "cell_type": "code",
   "execution_count": null,
   "id": "82f45d30",
   "metadata": {},
   "outputs": [],
   "source": []
  },
  {
   "cell_type": "code",
   "execution_count": null,
   "id": "c1360f29",
   "metadata": {},
   "outputs": [],
   "source": []
  },
  {
   "cell_type": "code",
   "execution_count": null,
   "id": "5ad70fc8",
   "metadata": {},
   "outputs": [],
   "source": []
  },
  {
   "cell_type": "code",
   "execution_count": null,
   "id": "30c84bdb",
   "metadata": {},
   "outputs": [],
   "source": []
  },
  {
   "cell_type": "code",
   "execution_count": null,
   "id": "1c579e5a",
   "metadata": {},
   "outputs": [],
   "source": []
  },
  {
   "cell_type": "code",
   "execution_count": null,
   "id": "b9616627",
   "metadata": {},
   "outputs": [],
   "source": []
  },
  {
   "cell_type": "code",
   "execution_count": null,
   "id": "d62e9714",
   "metadata": {},
   "outputs": [],
   "source": []
  },
  {
   "cell_type": "code",
   "execution_count": null,
   "id": "9052c001",
   "metadata": {},
   "outputs": [],
   "source": []
  },
  {
   "cell_type": "code",
   "execution_count": null,
   "id": "7135dacf",
   "metadata": {},
   "outputs": [],
   "source": []
  },
  {
   "cell_type": "code",
   "execution_count": null,
   "id": "aea8b379",
   "metadata": {},
   "outputs": [],
   "source": []
  },
  {
   "cell_type": "code",
   "execution_count": null,
   "id": "dc74e967",
   "metadata": {},
   "outputs": [],
   "source": []
  }
 ],
 "metadata": {
  "kernelspec": {
   "display_name": "Python 3 (ipykernel)",
   "language": "python",
   "name": "python3"
  },
  "language_info": {
   "codemirror_mode": {
    "name": "ipython",
    "version": 3
   },
   "file_extension": ".py",
   "mimetype": "text/x-python",
   "name": "python",
   "nbconvert_exporter": "python",
   "pygments_lexer": "ipython3",
   "version": "3.9.12"
  }
 },
 "nbformat": 4,
 "nbformat_minor": 5
}
