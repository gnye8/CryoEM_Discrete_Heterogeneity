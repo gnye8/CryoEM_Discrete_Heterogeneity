{
 "cells": [
  {
   "cell_type": "code",
   "execution_count": 1,
   "id": "8ee9566d",
   "metadata": {},
   "outputs": [],
   "source": [
    "import mrcfile\n",
    "import os\n",
    "import numpy as np"
   ]
  },
  {
   "cell_type": "code",
   "execution_count": 2,
   "id": "90c77df3",
   "metadata": {},
   "outputs": [
    {
     "name": "stdout",
     "output_type": "stream",
     "text": [
      "['D3_FMN_bad.mrc', '2yif.mrc', 'D4_FMN_good.mrc', 'D2_SAMIV_good.mrc', 'tmp.mrc', '6ues.mrc', 'D10_SAMIV_bad.mrc']\n",
      "(1.34375, 1.34375, 1.34375)\n",
      "(0.86, 0.86, 0.86)\n",
      "(1.34375, 1.34375, 1.34375)\n",
      "(1.34375, 1.34375, 1.34375)\n",
      "(0., 0., 0.)\n",
      "(0.86, 0.86, 0.86)\n",
      "(1.34375, 1.34375, 1.34375)\n"
     ]
    }
   ],
   "source": [
    "files = os.listdir('test_maps/')\n",
    "print(files)\n",
    "\n",
    "for file in files:\n",
    "\n",
    "    with mrcfile.open(f'test_maps/{file}') as mrc:\n",
    "    #print(mrc.data[10,10])\n",
    "        print(mrc.voxel_size)"
   ]
  },
  {
   "cell_type": "code",
   "execution_count": 3,
   "id": "e700efd3",
   "metadata": {},
   "outputs": [
    {
     "data": {
      "text/plain": [
       "rec.array((154, 154, 154, 2, -77, -77, -77, 154, 154, 154, (132.44, 132.44, 132.44), (90., 90., 90.), 1, 2, 3, 0., 15.619418, 0.02387825, 1, 0, b'\\x00\\x00\\x00\\x00\\x00\\x00\\x00\\x00', b'', 0, b'\\x00\\x00\\x00\\x00\\x00\\x00\\x00\\x00\\x00\\x00\\x00\\x00\\x00\\x00\\x00\\x00\\x00\\x00\\x00\\x00\\x00\\x00\\x00\\x00\\x00\\x00\\x00\\x00\\x00\\x00\\x00\\x00\\x00\\x00\\x00\\x00\\x00\\x00\\x00\\x00\\x00\\x00\\x00\\x00\\x00\\x00\\x00\\x00\\x00\\x00\\x00\\x00\\x00\\x00\\x00\\x00\\x00\\x00\\x00\\x00\\x00\\x00\\x00\\x00\\x00\\x00\\x00\\x00\\x00\\x00\\x00\\x00\\x00\\x00\\x00\\x00\\x00\\x00\\x00\\x00\\x00\\x00\\x00\\x00', (-66.22, -66.22, -66.22), b'MAP ', [68, 65,  0,  0], 0.30581287, 1, [b'EMAN 8/15/2023 10:51', b'', b'', b'', b'', b'', b'', b'', b'', b'']),\n",
       "          dtype=[('nx', '<i4'), ('ny', '<i4'), ('nz', '<i4'), ('mode', '<i4'), ('nxstart', '<i4'), ('nystart', '<i4'), ('nzstart', '<i4'), ('mx', '<i4'), ('my', '<i4'), ('mz', '<i4'), ('cella', [('x', '<f4'), ('y', '<f4'), ('z', '<f4')]), ('cellb', [('alpha', '<f4'), ('beta', '<f4'), ('gamma', '<f4')]), ('mapc', '<i4'), ('mapr', '<i4'), ('maps', '<i4'), ('dmin', '<f4'), ('dmax', '<f4'), ('dmean', '<f4'), ('ispg', '<i4'), ('nsymbt', '<i4'), ('extra1', 'V8'), ('exttyp', 'S4'), ('nversion', '<i4'), ('extra2', 'V84'), ('origin', [('x', '<f4'), ('y', '<f4'), ('z', '<f4')]), ('map', 'S4'), ('machst', 'u1', (4,)), ('rms', '<f4'), ('nlabl', '<i4'), ('label', 'S80', (10,))])"
      ]
     },
     "execution_count": 3,
     "metadata": {},
     "output_type": "execute_result"
    }
   ],
   "source": [
    "mrc = mrcfile.open('test_maps/6ues.mrc', mode='r+')\n",
    "mrc.header"
   ]
  },
  {
   "cell_type": "code",
   "execution_count": 4,
   "id": "c80f0c87",
   "metadata": {},
   "outputs": [],
   "source": [
    "#for modifying the contour level using mrcfile --\n",
    "#in the header, dmin, dmax, and dmean correspond to the following: \n",
    "    #dmin -- minimum pixel value \n",
    "    #dmax -- maximum pixel value \n",
    "    #dmean -- mean pixel value \n",
    "    \n",
    "#these need to be set for proper scaling of data \n",
    "#we have the mean for the pixel intensity, need to calculate standard deviation \n",
    "#to set contour size, just filter for values that are outside of x number of standard deviations \n",
    "    #from the mean (0.02387825)\n",
    "    \n",
    "#then just check the number of voxels "
   ]
  },
  {
   "cell_type": "code",
   "execution_count": 5,
   "id": "87590521",
   "metadata": {},
   "outputs": [],
   "source": [
    "## pseudocode layout for this script \n",
    "\n",
    "## first, load two .mrc files (one is the original map, the other is an initial volume)\n",
    "## second, check voxel size, cell size, and grid size and calculate the dimensions of each voxel in grid points\n",
    "## check how many voxels are in the original map \n",
    "## check how many voxels in the initial volume \n",
    "## iterate through a range of contour levels for the initial volume until voxel count matches the original map\n",
    "## save that contour level "
   ]
  },
  {
   "cell_type": "code",
   "execution_count": 6,
   "id": "4894d647",
   "metadata": {},
   "outputs": [
    {
     "name": "stdout",
     "output_type": "stream",
     "text": [
      "47312\n"
     ]
    }
   ],
   "source": [
    "def get_mrc_data_headers_and_vs(mrc_filename):\n",
    "    with mrcfile.open(mrc_filename) as mrc:\n",
    "        return mrc.data, mrc.header, mrc.voxel_size\n",
    "\n",
    "def calculate_voxels(data, contour_level):\n",
    "    threshold = np.mean(data) + (np.std(data)*contour_level)\n",
    "    contoured_data = np.where(data >= threshold, data, 0)\n",
    "    return np.count_nonzero(contoured_data)\n",
    "    \n",
    "original_map = 'test_maps/6ues.mrc'\n",
    "initial_volume = 'test_maps/D10_SAMIV_bad.mrc'\n",
    "    \n",
    "og_data, og_header, og_voxel_size = get_mrc_data_headers_and_vs(original_map)\n",
    "iv_data, iv_header, iv_voxel_size = get_mrc_data_headers_and_vs(initial_volume)\n",
    "\n",
    "## now let's check to make sure that grid size, voxel size, and cell size are all perfectly symmetrical \n",
    "\n",
    "if (og_voxel_size.x != og_voxel_size.y) or (og_voxel_size.x != og_voxel_size.z) or (og_voxel_size.y \n",
    "                                                                                    != og_voxel_size.z):\n",
    "    print('original map voxel size is not symmetrical')\n",
    "\n",
    "if (iv_voxel_size.x != iv_voxel_size.y) or (iv_voxel_size.x != iv_voxel_size.z) or (iv_voxel_size.y \n",
    "                                                                                    != iv_voxel_size.z):\n",
    "    print('initial volume voxel size is not symmetrical')\n",
    "\n",
    "if (og_header.nx != og_header.ny) or (og_header.ny != og_header.nz) or (og_header.nx != og_header.nz):\n",
    "    print('original map grid size is not symmetrical')\n",
    "\n",
    "if (iv_header.nx != iv_header.ny) or (iv_header.ny != iv_header.nz) or (iv_header.nx != iv_header.nz):\n",
    "    print('initial volume grid size is not symmetrical')\n",
    "\n",
    "if (og_header.cella.x != og_header.cella.y) or (og_header.cella.y \n",
    "                                                != og_header.cella.z) or (og_header.cella.x \n",
    "                                                                          != og_header.cella.z):\n",
    "    print('original map cell size is not symmetrical')\n",
    "\n",
    "if (iv_header.cella.x != iv_header.cella.y) or (iv_header.cella.y \n",
    "                                                != iv_header.cella.z) or (iv_header.cella.x \n",
    "                                                                          != iv_header.cella.z):\n",
    "    print('initial volume cell size is not symmetrical')\n",
    "    \n",
    "# now let's check that length of grid points per voxel is equal to 1\n",
    "\n",
    "og_grid_pts_pvoxel = (og_header.nx/og_header.cella.x)*og_voxel_size.x\n",
    "iv_grid_pts_pvoxel = (iv_header.nx/iv_header.cella.x)*iv_voxel_size.x\n",
    "\n",
    "if round(iv_grid_pts_pvoxel, 3) != 1.0 or round(og_grid_pts_pvoxel, 3) != 1.0:\n",
    "    print('grid points per voxel is off')\n",
    "\n",
    "# now let's calculate the number of voxels in the original map \n",
    "og_voxels = calculate_voxels(og_data, contour_level=0)\n",
    "print(og_voxels)\n",
    "\n",
    "#now for our first while loop, which will have a coarse search of contour levels \n",
    "iv_contour_level = 0\n",
    "iv_voxels = 0\n",
    "while iv_voxels != og_voxels:\n",
    "    iv_voxels = calculate_voxels(iv_data, iv_contour_level)\n",
    "    if iv_voxels < og_voxels:\n",
    "        break\n",
    "    iv_contour_level = iv_contour_level + 0.001\n",
    "\n",
    "#now for the second while loop, which will have a finer search of contour levels \n",
    "iv_contour_level = iv_contour_level - 0.001\n",
    "while iv_voxels != og_voxels:\n",
    "    iv_voxels = calculate_voxels(iv_data, iv_contour_level)\n",
    "    if iv_voxels < og_voxels:\n",
    "        break\n",
    "    iv_contour_level = iv_contour_level + 0.000001"
   ]
  },
  {
   "cell_type": "code",
   "execution_count": 7,
   "id": "a6802a0a",
   "metadata": {},
   "outputs": [
    {
     "name": "stdout",
     "output_type": "stream",
     "text": [
      "0.4841589999999961\n"
     ]
    }
   ],
   "source": [
    "#now we will print the final contour level which we have determined to give us the same number of voxels\n",
    "#as the original map\n",
    "print(iv_contour_level)"
   ]
  },
  {
   "cell_type": "code",
   "execution_count": 8,
   "id": "89aa441a",
   "metadata": {},
   "outputs": [],
   "source": [
    "#however, there is a problem with this method \n",
    "\n",
    "#since the cell size is different, the voxel size is also different, which means that having the same number\n",
    "#of voxels, still means that we have a different volume represented per voxel, angstroms cubed\n",
    "\n",
    "#so let's try a variation where instead of getting matching numbers of voxels, we choose the contour level\n",
    "#that gives the same volume, angstroms^3 "
   ]
  },
  {
   "cell_type": "code",
   "execution_count": 9,
   "id": "302fffdd",
   "metadata": {},
   "outputs": [
    {
     "name": "stdout",
     "output_type": "stream",
     "text": [
      "47312\n",
      "(0.86, 0.86, 0.86)\n",
      "30093.082973691828\n",
      "12402.557546906986\n",
      "12403.0\n"
     ]
    }
   ],
   "source": [
    "print(og_voxels)\n",
    "print(og_voxel_size)\n",
    "\n",
    "og_volume = og_voxels * og_voxel_size.x * og_voxel_size.y * og_voxel_size.z\n",
    "iv_voxels_wanted = og_volume / (iv_voxel_size.x*iv_voxel_size.y*iv_voxel_size.z)\n",
    "print(og_volume)\n",
    "print(iv_voxels_wanted)\n",
    "print(round(iv_voxels_wanted, 0))\n",
    "\n",
    "iv_contour_level_volume = 0\n",
    "while iv_voxels != int(round(iv_voxels_wanted, 0)):\n",
    "    #print(iv_contour_level_volume)\n",
    "    iv_voxels = calculate_voxels(iv_data, iv_contour_level_volume)\n",
    "    #print(iv_voxels)\n",
    "    if iv_voxels < int(round(iv_voxels_wanted, 0)):\n",
    "        break\n",
    "    iv_contour_level_volume += 0.01\n",
    "\n",
    "iv_contour_level_volume -= 0.001\n",
    "while iv_voxels != int(round(iv_voxels_wanted, 0)):\n",
    "    iv_voxels = calculate_voxels(iv_data, iv_contour_level_volume)\n",
    "    if iv_voxels < int(round(iv_voxels_wanted, 0)):\n",
    "        break\n",
    "    iv_contour_level_volume += 0.000001"
   ]
  },
  {
   "cell_type": "code",
   "execution_count": 10,
   "id": "a051b7ba",
   "metadata": {},
   "outputs": [
    {
     "name": "stdout",
     "output_type": "stream",
     "text": [
      "4.258999999999953\n"
     ]
    }
   ],
   "source": [
    "print(iv_contour_level_volume)"
   ]
  },
  {
   "cell_type": "code",
   "execution_count": 11,
   "id": "c19124fe",
   "metadata": {},
   "outputs": [],
   "source": [
    "## after a visual inspection of the corresponding volumes, the contour level based off volume\n",
    "## is a much more reasonable metric "
   ]
  },
  {
   "cell_type": "code",
   "execution_count": null,
   "id": "0952fd9a",
   "metadata": {},
   "outputs": [],
   "source": []
  },
  {
   "cell_type": "code",
   "execution_count": null,
   "id": "c8a0d610",
   "metadata": {},
   "outputs": [],
   "source": []
  },
  {
   "cell_type": "code",
   "execution_count": null,
   "id": "cef6788a",
   "metadata": {},
   "outputs": [],
   "source": []
  },
  {
   "cell_type": "code",
   "execution_count": null,
   "id": "f16d881e",
   "metadata": {},
   "outputs": [],
   "source": []
  },
  {
   "cell_type": "code",
   "execution_count": null,
   "id": "0d9d43a7",
   "metadata": {},
   "outputs": [],
   "source": []
  },
  {
   "cell_type": "code",
   "execution_count": null,
   "id": "aec2a266",
   "metadata": {},
   "outputs": [],
   "source": []
  },
  {
   "cell_type": "code",
   "execution_count": null,
   "id": "703bf5a9",
   "metadata": {},
   "outputs": [],
   "source": []
  },
  {
   "cell_type": "code",
   "execution_count": null,
   "id": "11a46eaa",
   "metadata": {},
   "outputs": [],
   "source": []
  },
  {
   "cell_type": "code",
   "execution_count": null,
   "id": "22b07216",
   "metadata": {},
   "outputs": [],
   "source": []
  },
  {
   "cell_type": "code",
   "execution_count": null,
   "id": "b1728588",
   "metadata": {},
   "outputs": [],
   "source": []
  },
  {
   "cell_type": "code",
   "execution_count": null,
   "id": "3f5e178d",
   "metadata": {},
   "outputs": [],
   "source": []
  },
  {
   "cell_type": "code",
   "execution_count": null,
   "id": "b5a3de89",
   "metadata": {},
   "outputs": [],
   "source": []
  },
  {
   "cell_type": "code",
   "execution_count": null,
   "id": "8a6c8af1",
   "metadata": {},
   "outputs": [],
   "source": []
  },
  {
   "cell_type": "code",
   "execution_count": null,
   "id": "82f45d30",
   "metadata": {},
   "outputs": [],
   "source": []
  },
  {
   "cell_type": "code",
   "execution_count": null,
   "id": "c1360f29",
   "metadata": {},
   "outputs": [],
   "source": []
  },
  {
   "cell_type": "code",
   "execution_count": null,
   "id": "5ad70fc8",
   "metadata": {},
   "outputs": [],
   "source": []
  },
  {
   "cell_type": "code",
   "execution_count": null,
   "id": "30c84bdb",
   "metadata": {},
   "outputs": [],
   "source": []
  },
  {
   "cell_type": "code",
   "execution_count": null,
   "id": "1c579e5a",
   "metadata": {},
   "outputs": [],
   "source": []
  },
  {
   "cell_type": "code",
   "execution_count": null,
   "id": "b9616627",
   "metadata": {},
   "outputs": [],
   "source": []
  },
  {
   "cell_type": "code",
   "execution_count": null,
   "id": "d62e9714",
   "metadata": {},
   "outputs": [],
   "source": []
  },
  {
   "cell_type": "code",
   "execution_count": null,
   "id": "9052c001",
   "metadata": {},
   "outputs": [],
   "source": []
  },
  {
   "cell_type": "code",
   "execution_count": null,
   "id": "7135dacf",
   "metadata": {},
   "outputs": [],
   "source": []
  },
  {
   "cell_type": "code",
   "execution_count": null,
   "id": "aea8b379",
   "metadata": {},
   "outputs": [],
   "source": []
  },
  {
   "cell_type": "code",
   "execution_count": null,
   "id": "dc74e967",
   "metadata": {},
   "outputs": [],
   "source": []
  }
 ],
 "metadata": {
  "kernelspec": {
   "display_name": "Python 3 (ipykernel)",
   "language": "python",
   "name": "python3"
  },
  "language_info": {
   "codemirror_mode": {
    "name": "ipython",
    "version": 3
   },
   "file_extension": ".py",
   "mimetype": "text/x-python",
   "name": "python",
   "nbconvert_exporter": "python",
   "pygments_lexer": "ipython3",
   "version": "3.9.12"
  }
 },
 "nbformat": 4,
 "nbformat_minor": 5
}
